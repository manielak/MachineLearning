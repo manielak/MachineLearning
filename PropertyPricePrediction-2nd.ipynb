{
 "cells": [
  {
   "cell_type": "markdown",
   "id": "joined-shell",
   "metadata": {},
   "source": [
    "# Property price prediction -2nd possibility"
   ]
  },
  {
   "cell_type": "markdown",
   "id": "noble-interpretation",
   "metadata": {},
   "source": [
    "## Preparing libraries"
   ]
  },
  {
   "cell_type": "code",
   "execution_count": 1,
   "id": "mexican-consequence",
   "metadata": {},
   "outputs": [],
   "source": [
    "import pandas as pd\n",
    "import numpy as np\n",
    "np.random.seed(0)\n",
    "\n",
    "import qgrid\n",
    "import missingno as msno\n",
    "\n",
    "from sklearn.metrics import mean_absolute_error\n",
    "from tqdm import tqdm \n",
    "from sklearn.dummy import DummyRegressor\n",
    "from sklearn.model_selection import cross_val_score, cross_validate\n",
    "\n",
    "import xgboost as xgb\n",
    "import gc\n",
    "import eli5\n",
    "import mlflow"
   ]
  },
  {
   "cell_type": "markdown",
   "id": "nasty-index",
   "metadata": {},
   "source": [
    "# MLflow"
   ]
  },
  {
   "cell_type": "code",
   "execution_count": 2,
   "id": "unnecessary-safety",
   "metadata": {},
   "outputs": [],
   "source": [
    "def get_or_create_experiment(name):\n",
    "    experiment = mlflow.get_experiment_by_name(name)\n",
    "    if experiment is None:\n",
    "        mlflow.create_experiment(name)\n",
    "        return mlflow.get_experiment_by_name(name)\n",
    "    \n",
    "    return experiment\n",
    "\n",
    "def _eid(name):\n",
    "    return get_or_create_experiment(name).experiment_id"
   ]
  },
  {
   "cell_type": "code",
   "execution_count": 3,
   "id": "exposed-setting",
   "metadata": {},
   "outputs": [
    {
     "data": {
      "text/plain": [
       "<Experiment: artifact_location='file:///home/jovyan/dwsolutions/property_warsaw/notebooks/mlruns/1', experiment_id='1', lifecycle_stage='active', name='dwsolution_property', tags={}>"
      ]
     },
     "execution_count": 3,
     "metadata": {},
     "output_type": "execute_result"
    }
   ],
   "source": [
    "get_or_create_experiment(\"dwsolution_property\")"
   ]
  },
  {
   "cell_type": "markdown",
   "id": "intellectual-commission",
   "metadata": {},
   "source": [
    "## Reading data"
   ]
  },
  {
   "cell_type": "code",
   "execution_count": 3,
   "id": "vital-assessment",
   "metadata": {},
   "outputs": [
    {
     "name": "stdout",
     "output_type": "stream",
     "text": [
      "big_train_warsaw_property.h5  \u001b[0m\u001b[01;36mtrain_data.h5\u001b[0m@\r\n",
      "test_warsaw_property.h5       train_warsaw_property.h5\r\n"
     ]
    }
   ],
   "source": [
    "ls ../input/"
   ]
  },
  {
   "cell_type": "code",
   "execution_count": 4,
   "id": "married-portrait",
   "metadata": {},
   "outputs": [
    {
     "data": {
      "text/plain": [
       "(60222, 53)"
      ]
     },
     "execution_count": 4,
     "metadata": {},
     "output_type": "execute_result"
    }
   ],
   "source": [
    "df_train = pd.read_hdf(\"../input/train_warsaw_property.h5\")\n",
    "df_test = pd.read_hdf(\"../input/test_warsaw_property.h5\")\n",
    "\n",
    "df = pd.concat([df_train, df_test])\n",
    "del df_train, df_test\n",
    "gc.collect()\n",
    "\n",
    "df.shape"
   ]
  },
  {
   "cell_type": "code",
   "execution_count": 5,
   "id": "processed-accounting",
   "metadata": {},
   "outputs": [
    {
     "name": "stdout",
     "output_type": "stream",
     "text": [
      "<class 'pandas.core.frame.DataFrame'>\n",
      "Int64Index: 60222 entries, 27731 to 92766\n",
      "Data columns (total 53 columns):\n",
      " #   Column                       Non-Null Count  Dtype  \n",
      "---  ------                       --------------  -----  \n",
      " 0   id                           60222 non-null  int64  \n",
      " 1   location                     60222 non-null  object \n",
      " 2   is_private                   60222 non-null  int8   \n",
      " 3   piekarnik                    60222 non-null  bool   \n",
      " 4   garaż                        60222 non-null  bool   \n",
      " 5   monitoring / ochrona         60222 non-null  bool   \n",
      " 6   rolety antywłamaniowe        60222 non-null  bool   \n",
      " 7   kuchenka                     60222 non-null  bool   \n",
      " 8   taras                        60222 non-null  bool   \n",
      " 9   balkon                       60222 non-null  bool   \n",
      " 10  ogródek                      60222 non-null  bool   \n",
      " 11  dwupoziomowe                 60222 non-null  bool   \n",
      " 12  system alarmowy              60222 non-null  bool   \n",
      " 13  pom. użytkowe                60222 non-null  bool   \n",
      " 14  klimatyzacja                 60222 non-null  bool   \n",
      " 15  tarasy                       60222 non-null  bool   \n",
      " 16  teren zamknięty              60222 non-null  bool   \n",
      " 17  internet                     60222 non-null  bool   \n",
      " 18  winda                        60222 non-null  bool   \n",
      " 19  telefon                      60222 non-null  bool   \n",
      " 20  pralka                       60222 non-null  bool   \n",
      " 21  piwnica                      60222 non-null  bool   \n",
      " 22  ochrona                      60222 non-null  bool   \n",
      " 23  telewizja kablowa            60222 non-null  bool   \n",
      " 24  telewizor                    60222 non-null  bool   \n",
      " 25  lodówka                      60222 non-null  bool   \n",
      " 26  domofon / wideofon           60222 non-null  bool   \n",
      " 27  oddzielna kuchnia            60222 non-null  bool   \n",
      " 28  zmywarka                     60222 non-null  bool   \n",
      " 29  garaż/miejsce parkingowe     60222 non-null  bool   \n",
      " 30  meble                        60222 non-null  bool   \n",
      " 31  drzwi / okna antywłamaniowe  60222 non-null  bool   \n",
      " 32  plan zagospodarowania:       60222 non-null  bool   \n",
      " 33  price                        13947 non-null  float32\n",
      " 34  area                         60222 non-null  object \n",
      " 35  rooms                        60222 non-null  int8   \n",
      " 36  floor                        53848 non-null  object \n",
      " 37  floors_in_building           53848 non-null  object \n",
      " 38  dostępne od                  9948 non-null   object \n",
      " 39  rok budowy                   38944 non-null  object \n",
      " 40  materiał budynku             28194 non-null  object \n",
      " 41  okna                         40401 non-null  object \n",
      " 42  data rozpoczęcia             0 non-null      object \n",
      " 43  stan inwestycji              0 non-null      object \n",
      " 44  liczba kondygnacji           0 non-null      object \n",
      " 45  stan wykończenia             33046 non-null  object \n",
      " 46  czynsz                       21547 non-null  object \n",
      " 47  rodzaj zabudowy              48854 non-null  object \n",
      " 48  ogrzewanie                   37366 non-null  object \n",
      " 49  forma własności              39470 non-null  object \n",
      " 50  stats                        60222 non-null  object \n",
      " 51  text                         60222 non-null  object \n",
      " 52  is_primary_market            60222 non-null  bool   \n",
      "dtypes: bool(31), float32(1), int64(1), int8(2), object(18)\n",
      "memory usage: 11.3+ MB\n"
     ]
    }
   ],
   "source": [
    "df.info()"
   ]
  },
  {
   "cell_type": "markdown",
   "id": "sustained-conversion",
   "metadata": {},
   "source": [
    "## Data analysis"
   ]
  },
  {
   "cell_type": "code",
   "execution_count": 6,
   "id": "otherwise-armor",
   "metadata": {},
   "outputs": [
    {
     "data": {
      "text/plain": [
       "27731    42,93 m²\n",
       "40398    43,17 m²\n",
       "35812       46 m²\n",
       "48052    48,60 m²\n",
       "36421       77 m²\n",
       "           ...   \n",
       "92751      100 m²\n",
       "92754       49 m²\n",
       "92756      150 m²\n",
       "92765      142 m²\n",
       "92766    69,45 m²\n",
       "Name: area, Length: 60222, dtype: object"
      ]
     },
     "execution_count": 6,
     "metadata": {},
     "output_type": "execute_result"
    }
   ],
   "source": [
    "df.area"
   ]
  },
  {
   "cell_type": "code",
   "execution_count": 8,
   "id": "southwest-grounds",
   "metadata": {},
   "outputs": [
    {
     "data": {
      "text/plain": [
       "27731     42.93\n",
       "40398     43.17\n",
       "35812     46.00\n",
       "48052     48.60\n",
       "36421     77.00\n",
       "          ...  \n",
       "92751    100.00\n",
       "92754     49.00\n",
       "92756    150.00\n",
       "92765    142.00\n",
       "92766     69.45\n",
       "Name: area, Length: 60222, dtype: float64"
      ]
     },
     "execution_count": 8,
     "metadata": {},
     "output_type": "execute_result"
    }
   ],
   "source": [
    "df[\"area\"].map(lambda x: x.split(\"m\")[0].replace(\" \", \"\").replace(\",\", \".\")).astype(\"float\")"
   ]
  },
  {
   "cell_type": "code",
   "execution_count": 9,
   "id": "scientific-smoke",
   "metadata": {},
   "outputs": [
    {
     "data": {
      "text/plain": [
       "1           12759\n",
       "parter      10107\n",
       "2           10069\n",
       "3            8983\n",
       "4            5895\n",
       "5            1805\n",
       "6            1159\n",
       "7             825\n",
       "8             638\n",
       "10            540\n",
       "> 10          533\n",
       "9             430\n",
       "poddasze       89\n",
       "suterena       16\n",
       "Name: floor, dtype: int64"
      ]
     },
     "execution_count": 9,
     "metadata": {},
     "output_type": "execute_result"
    }
   ],
   "source": [
    "df[\"floor\"].value_counts()"
   ]
  },
  {
   "cell_type": "code",
   "execution_count": 10,
   "id": "opposed-danish",
   "metadata": {},
   "outputs": [
    {
     "data": {
      "text/plain": [
       "cegła              14846\n",
       "inne                3469\n",
       "wielka płyta        3394\n",
       "pustak              2961\n",
       "silikat             2047\n",
       "żelbet               655\n",
       "beton komórkowy      413\n",
       "beton                346\n",
       "drewno                47\n",
       "keramzyt              16\n",
       "Name: materiał budynku, dtype: int64"
      ]
     },
     "execution_count": 10,
     "metadata": {},
     "output_type": "execute_result"
    }
   ],
   "source": [
    "df[\"materiał budynku\"].value_counts()"
   ]
  },
  {
   "cell_type": "code",
   "execution_count": 11,
   "id": "foster-nowhere",
   "metadata": {},
   "outputs": [
    {
     "data": {
      "text/plain": [
       "plastikowe    35873\n",
       "drewniane      4211\n",
       "aluminiowe      317\n",
       "Name: okna, dtype: int64"
      ]
     },
     "execution_count": 11,
     "metadata": {},
     "output_type": "execute_result"
    }
   ],
   "source": [
    "df[\"okna\"].value_counts()"
   ]
  },
  {
   "cell_type": "code",
   "execution_count": 12,
   "id": "mediterranean-rubber",
   "metadata": {},
   "outputs": [
    {
     "data": {
      "text/plain": [
       "do zamieszkania    16049\n",
       "do wykończenia     13839\n",
       "do remontu          3158\n",
       "Name: stan wykończenia, dtype: int64"
      ]
     },
     "execution_count": 12,
     "metadata": {},
     "output_type": "execute_result"
    }
   ],
   "source": [
    "df[\"stan wykończenia\"].value_counts()"
   ]
  },
  {
   "cell_type": "code",
   "execution_count": 13,
   "id": "constant-chair",
   "metadata": {},
   "outputs": [
    {
     "data": {
      "text/plain": [
       "blok                27282\n",
       "apartamentowiec     12047\n",
       "kamienica            7190\n",
       "dom wolnostojący     1124\n",
       "szeregowiec          1067\n",
       "plomba                101\n",
       "loft                   43\n",
       "Name: rodzaj zabudowy, dtype: int64"
      ]
     },
     "execution_count": 13,
     "metadata": {},
     "output_type": "execute_result"
    }
   ],
   "source": [
    "df[\"rodzaj zabudowy\"].value_counts()"
   ]
  },
  {
   "cell_type": "code",
   "execution_count": 14,
   "id": "urban-attraction",
   "metadata": {},
   "outputs": [
    {
     "data": {
      "text/plain": [
       "pełna własność               34411\n",
       "spółdzielcze własnościowe     3034\n",
       "spółdzielcze wł. z kw         1901\n",
       "udział                         124\n",
       "Name: forma własności, dtype: int64"
      ]
     },
     "execution_count": 14,
     "metadata": {},
     "output_type": "execute_result"
    }
   ],
   "source": [
    "df[\"forma własności\"].value_counts()"
   ]
  },
  {
   "cell_type": "code",
   "execution_count": 15,
   "id": "happy-seafood",
   "metadata": {},
   "outputs": [
    {
     "data": {
      "text/plain": [
       " (z 4)        15665\n",
       " (z 3)        11688\n",
       " (z 2)         7423\n",
       " (z 5)         4725\n",
       " (z 1)         3096\n",
       " (z 10)        2752\n",
       " (z 6)         2156\n",
       " (z 7)         1837\n",
       " (z 8)         1666\n",
       " (z 11)         920\n",
       " (z 9)          482\n",
       " (z 12)         308\n",
       " (z 15)         202\n",
       " (z 13)         196\n",
       " (z 14)         190\n",
       " (z 16)         186\n",
       " (z 17)         168\n",
       " (z 18)          48\n",
       " (z 21)          40\n",
       " (z 19)          18\n",
       " (z 26)           9\n",
       " (z 30)           9\n",
       " (z 32)           9\n",
       " (z 44)           7\n",
       " (z 28)           5\n",
       " (z 27)           5\n",
       " (z 22)           5\n",
       " (z 52)           5\n",
       " (z 24)           4\n",
       " (z 25)           4\n",
       " (z 23)           4\n",
       " (z 36)           3\n",
       " (z 2017)         2\n",
       " (z 38)           2\n",
       " (z 43)           1\n",
       " (z 62)           1\n",
       " (z 50)           1\n",
       " (z 1999)         1\n",
       " (z 52019)        1\n",
       " (z 51)           1\n",
       " (z 49)           1\n",
       " (z 20)           1\n",
       " (z 142)          1\n",
       "Name: floors_in_building, dtype: int64"
      ]
     },
     "execution_count": 15,
     "metadata": {},
     "output_type": "execute_result"
    }
   ],
   "source": [
    "df[\"floors_in_building\"].value_counts()"
   ]
  },
  {
   "cell_type": "code",
   "execution_count": 16,
   "id": "viral-given",
   "metadata": {},
   "outputs": [
    {
     "data": {
      "text/plain": [
       " 4.0        15665\n",
       " 3.0        11688\n",
       " 2.0         7423\n",
       "-1.0         6374\n",
       " 5.0         4725\n",
       " 1.0         3096\n",
       " 10.0        2752\n",
       " 6.0         2156\n",
       " 7.0         1837\n",
       " 8.0         1666\n",
       " 11.0         920\n",
       " 9.0          482\n",
       " 12.0         308\n",
       " 15.0         202\n",
       " 13.0         196\n",
       " 14.0         190\n",
       " 16.0         186\n",
       " 17.0         168\n",
       " 18.0          48\n",
       " 21.0          40\n",
       " 19.0          18\n",
       " 32.0           9\n",
       " 26.0           9\n",
       " 30.0           9\n",
       " 44.0           7\n",
       " 52.0           5\n",
       " 27.0           5\n",
       " 28.0           5\n",
       " 22.0           5\n",
       " 25.0           4\n",
       " 24.0           4\n",
       " 23.0           4\n",
       " 36.0           3\n",
       " 2017.0         2\n",
       " 38.0           2\n",
       " 20.0           1\n",
       " 49.0           1\n",
       " 62.0           1\n",
       " 43.0           1\n",
       " 1999.0         1\n",
       " 142.0          1\n",
       " 50.0           1\n",
       " 52019.0        1\n",
       " 51.0           1\n",
       "Name: floors_in_building_num, dtype: int64"
      ]
     },
     "execution_count": 16,
     "metadata": {},
     "output_type": "execute_result"
    }
   ],
   "source": [
    "df[\"floors_in_building_num\"] = df[\"floors_in_building\"].map(lambda x: str(x).split(\"z\")[-1].replace(\")\", \"\") if str(x) != \"nan\" else -1).astype(\"float\")\n",
    "df[\"floors_in_building_num\"].value_counts()"
   ]
  },
  {
   "cell_type": "code",
   "execution_count": 17,
   "id": "political-intellectual",
   "metadata": {},
   "outputs": [
    {
     "data": {
      "text/plain": [
       " 4.0     15665\n",
       " 3.0     11688\n",
       " 2.0      7423\n",
       "-1.0      6374\n",
       " 5.0      4725\n",
       " 1.0      3096\n",
       " 10.0     2752\n",
       " 6.0      2156\n",
       " 7.0      1837\n",
       " 8.0      1666\n",
       " 11.0      920\n",
       " 9.0       482\n",
       " 12.0      308\n",
       " 15.0      202\n",
       " 13.0      196\n",
       " 14.0      190\n",
       " 16.0      186\n",
       " 17.0      168\n",
       " 25.0      122\n",
       " 18.0       48\n",
       " 19.0       18\n",
       "Name: floors_in_building_num_norm, dtype: int64"
      ]
     },
     "execution_count": 17,
     "metadata": {},
     "output_type": "execute_result"
    }
   ],
   "source": [
    "df[\"floors_in_building_num_norm\"] = df[\"floors_in_building_num\"].map(lambda x: x if x < 20 else 25)\n",
    "df[\"floors_in_building_num_norm\"].value_counts()"
   ]
  },
  {
   "cell_type": "markdown",
   "id": "intensive-somalia",
   "metadata": {},
   "source": [
    "## Feature engineering"
   ]
  },
  {
   "cell_type": "code",
   "execution_count": 18,
   "id": "adverse-comment",
   "metadata": {},
   "outputs": [],
   "source": [
    "def feature_engineering(df):\n",
    "\n",
    "    df[\"area_num\"] = df[\"area\"].map(lambda x: x.split(\"m\")[0].replace(\" \", \"\").replace(\",\", \".\")).astype(\"float\")\n",
    "    area_num_99 = np.percentile(df[\"area_num\"], 99)\n",
    "    df[\"area_norm\"] = df[\"area_num\"].map(lambda x: x if x <= area_num_99 else area_num_99  )\n",
    "    \n",
    "    df[\"area_num_log\"] = np.log(df[\"area_num\"])\n",
    "    df[\"price_m2\"] = df[\"price\"] / df[\"area_num\"]\n",
    "    \n",
    "    for i in range(5):\n",
    "        df[\"loc{}\".format(i)] = df[\"location\"].map(lambda x: x[i] if len(x) > i else -1)\n",
    "\n",
    "    agg_funcs = [\"median\"]\n",
    "    for grp_feat in [\"price\", \"price_m2\"]:\n",
    "        for loc_num in [\"loc0\", \"loc1\", \"loc2\"]:\n",
    "            loc_grp = df[ [grp_feat, loc_num] ].groupby(loc_num).agg(agg_funcs).to_dict()\n",
    "            for agg_func in agg_funcs:\n",
    "                df[\"{0}_{1}_{2}\".format(loc_num, grp_feat, agg_func)] = df[loc_num].map(loc_grp[ (grp_feat, agg_func) ])\n",
    "\n",
    "                \n",
    "    df[\"price_median\"] = df[\"area_norm\"] * df[\"loc1_price_m2_median\"]\n",
    "    \n",
    "                \n",
    "    floors_dict = {\"parter\": 0, \"> 10\": 11, \"poddasze\": -2, \"suterena\": -1 }\n",
    "    df[\"floor_num\"] = df[\"floor\"].map(lambda x: floors_dict.get(x, x)).fillna(-10).astype(\"int\")\n",
    "    \n",
    "    df[\"floors_in_building_num\"] = df[\"floors_in_building\"].map(lambda x: str(x).split(\"z\")[-1].replace(\")\", \"\") if str(x) != \"nan\" else -1).astype(\"float\")\n",
    "    df[\"floors_in_building_num_norm\"] = df[\"floors_in_building_num\"].map(lambda x: x if x < 20 else 25)\n",
    "\n",
    "    df[\"build_year\"] = df[\"rok budowy\"].fillna(-1).astype(\"int\")\n",
    "    \n",
    "    df[\"rental\"] = df[\"czynsz\"].map(lambda x: str(x).split(\"zł\")[0].replace(\" \", \"\").replace(\",\", \".\") if str(x) != \"nan\" else -1 )\n",
    "    df[\"rental\"] = df[\"rental\"].map(lambda x: float(str(x).replace(\"eur\", \"\") * 4) if \"eur\" in str(x) else x).astype(\"float\")\n",
    "\n",
    "\n",
    "    #categorical\n",
    "    cat_feats = {\n",
    "        \"materiał budynku\": \"build_material_cat\",\n",
    "        \"okna\": \"window_cat\",\n",
    "        \"stan wykończenia\": \"property_completion_cat\",\n",
    "        \"rodzaj zabudowy\": \"property_type_cat\",\n",
    "        \"ogrzewanie\": \"property_heating_cat\",\n",
    "        \"forma własności\": \"own_property_cat\"\n",
    "    }\n",
    "    \n",
    "    for feat_name, feat_new_name in cat_feats.items():\n",
    "        df[feat_new_name] = df[feat_name].factorize()[0]\n",
    "        \n",
    "        #ohe\n",
    "        df_dummies = pd.get_dummies(df[feat_name])\n",
    "        df_dummies.columns = [\"{0}_{1}\".format(feat_new_name, x) for x in df_dummies.columns]\n",
    "        df = pd.concat( [df, df_dummies], axis=1)\n",
    "    \n",
    "    return df"
   ]
  },
  {
   "cell_type": "code",
   "execution_count": 19,
   "id": "black-powder",
   "metadata": {},
   "outputs": [],
   "source": [
    "df_fe = feature_engineering(df.copy())"
   ]
  },
  {
   "cell_type": "markdown",
   "id": "former-instrumentation",
   "metadata": {},
   "source": [
    "## Preparing model"
   ]
  },
  {
   "cell_type": "code",
   "execution_count": 20,
   "id": "musical-cherry",
   "metadata": {},
   "outputs": [
    {
     "name": "stdout",
     "output_type": "stream",
     "text": [
      "['is_private', 'piekarnik', 'garaż', 'monitoring / ochrona', 'rolety antywłamaniowe', 'kuchenka', 'taras', 'balkon', 'ogródek', 'dwupoziomowe', 'system alarmowy', 'pom. użytkowe', 'klimatyzacja', 'tarasy', 'teren zamknięty', 'internet', 'winda', 'telefon', 'pralka', 'piwnica', 'ochrona', 'telewizja kablowa', 'telewizor', 'lodówka', 'domofon / wideofon', 'oddzielna kuchnia', 'zmywarka', 'garaż/miejsce parkingowe', 'meble', 'drzwi / okna antywłamaniowe', 'plan zagospodarowania:', 'rooms', 'is_primary_market', 'floors_in_building_num', 'floors_in_building_num_norm', 'area_num', 'area_norm', 'area_num_log', 'loc0_price_median', 'loc1_price_median', 'loc2_price_median', 'loc0_price_m2_median', 'loc1_price_m2_median', 'loc2_price_m2_median', 'floor_num', 'build_year', 'rental', 'build_material_cat', 'build_material_cat_beton', 'build_material_cat_beton komórkowy', 'build_material_cat_cegła', 'build_material_cat_drewno', 'build_material_cat_inne', 'build_material_cat_keramzyt', 'build_material_cat_pustak', 'build_material_cat_silikat', 'build_material_cat_wielka płyta', 'build_material_cat_żelbet', 'window_cat', 'window_cat_aluminiowe', 'window_cat_drewniane', 'window_cat_plastikowe', 'property_completion_cat', 'property_completion_cat_do remontu', 'property_completion_cat_do wykończenia', 'property_completion_cat_do zamieszkania', 'property_type_cat', 'property_type_cat_apartamentowiec', 'property_type_cat_blok', 'property_type_cat_dom wolnostojący', 'property_type_cat_kamienica', 'property_type_cat_loft', 'property_type_cat_plomba', 'property_type_cat_szeregowiec', 'property_heating_cat', 'property_heating_cat_elektryczne', 'property_heating_cat_gazowe', 'property_heating_cat_inne', 'property_heating_cat_kotłownia', 'property_heating_cat_miejskie', 'property_heating_cat_piece kaflowe', 'own_property_cat', 'own_property_cat_pełna własność', 'own_property_cat_spółdzielcze wł. z kw', 'own_property_cat_spółdzielcze własnościowe', 'own_property_cat_udział']\n"
     ]
    },
    {
     "data": {
      "text/plain": [
       "86"
      ]
     },
     "execution_count": 20,
     "metadata": {},
     "output_type": "execute_result"
    }
   ],
   "source": [
    "black_list = [\"id\", \"price\", \"price_m2\", \"price_median\"]\n",
    "feats = [x for x in df_fe.select_dtypes([\"number\", \"boolean\"]).columns if x not in black_list]\n",
    "\n",
    "print(feats)\n",
    "len(feats)"
   ]
  },
  {
   "cell_type": "code",
   "execution_count": 21,
   "id": "surface-least",
   "metadata": {},
   "outputs": [
    {
     "name": "stdout",
     "output_type": "stream",
     "text": [
      "(13947, 86) (46275, 86)\n"
     ]
    }
   ],
   "source": [
    "train = df_fe[ df_fe[\"price\"].notnull() ]\n",
    "test = df_fe[ df_fe[\"price\"].isnull() ].copy()\n",
    "\n",
    "X_train = train[feats].values\n",
    "y_train = train[\"price\"].values\n",
    "X_test =  test[feats].values\n",
    "\n",
    "print(X_train.shape, X_test.shape)"
   ]
  },
  {
   "cell_type": "code",
   "execution_count": 22,
   "id": "detailed-wages",
   "metadata": {},
   "outputs": [],
   "source": [
    "!mkdir -p ../outputs"
   ]
  },
  {
   "cell_type": "code",
   "execution_count": 23,
   "id": "right-separation",
   "metadata": {},
   "outputs": [
    {
     "data": {
      "text/plain": [
       "'done'"
      ]
     },
     "execution_count": 23,
     "metadata": {},
     "output_type": "execute_result"
    }
   ],
   "source": [
    "with mlflow.start_run(experiment_id=_eid(\"dwsolution_property\"), run_name=\"xgboost\") as run:\n",
    "\n",
    "    model = xgb.XGBRegressor(max_depth=8, n_estimators=150, random_state=0)\n",
    "    mlflow.log_params(model.get_params())\n",
    "    mlflow.log_param(\"model\", str(model).split(\"(\")[0])\n",
    "    mlflow.log_param(\"feats\", feats)\n",
    "    mlflow.log_param(\"X_train.shape\", X_train.shape)\n",
    "\n",
    "    model.fit(X_train, y_train)\n",
    "\n",
    "    #artifcats\n",
    "    result = eli5.show_weights(model, feature_names=feats)\n",
    "    with open(\"../outputs/eli5.html\", \"w\") as f:\n",
    "        f.write(\"<html>{}</html>\".format(result.data))\n",
    "    mlflow.log_artifact(\"../outputs/eli5.html\", \"plot\")\n",
    "\n",
    "    #metrics\n",
    "    scoring = [\"neg_mean_absolute_error\", \"neg_mean_squared_error\",  \"neg_median_absolute_error\", \"r2\"]\n",
    "    result = cross_validate(model, X_train, y_train, scoring=scoring, return_train_score=True, return_estimator=False)\n",
    "    mlflow.log_metrics({\"avg_{}\".format(x): np.mean(result[x]) for x in result})\n",
    "    mlflow.log_metrics({\"std_{}\".format(x): np.std(result[x]) for x in result})\n",
    "\n",
    "\"done\"    "
   ]
  },
  {
   "cell_type": "code",
   "execution_count": 24,
   "id": "victorian-ghost",
   "metadata": {},
   "outputs": [],
   "source": [
    "test[\"price\"] = model.predict(X_test)\n",
    "test[ ['id', 'price'] ].to_csv('../output/xgb_starter2.csv', index=False) "
   ]
  },
  {
   "cell_type": "code",
   "execution_count": null,
   "id": "imported-george",
   "metadata": {},
   "outputs": [],
   "source": []
  },
  {
   "cell_type": "code",
   "execution_count": null,
   "id": "persistent-structure",
   "metadata": {},
   "outputs": [],
   "source": []
  },
  {
   "cell_type": "code",
   "execution_count": null,
   "id": "immediate-stuart",
   "metadata": {},
   "outputs": [],
   "source": []
  }
 ],
 "metadata": {
  "kernelspec": {
   "display_name": "Python 3",
   "language": "python",
   "name": "python3"
  },
  "language_info": {
   "codemirror_mode": {
    "name": "ipython",
    "version": 3
   },
   "file_extension": ".py",
   "mimetype": "text/x-python",
   "name": "python",
   "nbconvert_exporter": "python",
   "pygments_lexer": "ipython3",
   "version": "3.8.6"
  }
 },
 "nbformat": 4,
 "nbformat_minor": 5
}
