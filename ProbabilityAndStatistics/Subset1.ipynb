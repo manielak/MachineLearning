{
 "cells": [
  {
   "cell_type": "markdown",
   "id": "bizarre-bhutan",
   "metadata": {},
   "source": [
    "# Subsets"
   ]
  },
  {
   "cell_type": "code",
   "execution_count": 1,
   "id": "inappropriate-currency",
   "metadata": {},
   "outputs": [],
   "source": [
    "A = {1,2,3,8}\n",
    "B = {3, 4}"
   ]
  },
  {
   "cell_type": "code",
   "execution_count": 2,
   "id": "wooden-norfolk",
   "metadata": {},
   "outputs": [
    {
     "name": "stdout",
     "output_type": "stream",
     "text": [
      "True\n"
     ]
    }
   ],
   "source": [
    "print(1 in A)"
   ]
  },
  {
   "cell_type": "code",
   "execution_count": 3,
   "id": "competent-movie",
   "metadata": {},
   "outputs": [
    {
     "name": "stdout",
     "output_type": "stream",
     "text": [
      "False\n"
     ]
    }
   ],
   "source": [
    "print(4 in A)"
   ]
  },
  {
   "cell_type": "code",
   "execution_count": 4,
   "id": "global-dealing",
   "metadata": {},
   "outputs": [],
   "source": [
    "flag = 4 in A"
   ]
  },
  {
   "cell_type": "code",
   "execution_count": 5,
   "id": "separated-colorado",
   "metadata": {},
   "outputs": [
    {
     "data": {
      "text/plain": [
       "bool"
      ]
     },
     "execution_count": 5,
     "metadata": {},
     "output_type": "execute_result"
    }
   ],
   "source": [
    "type(flag)"
   ]
  },
  {
   "cell_type": "code",
   "execution_count": 6,
   "id": "outer-scope",
   "metadata": {},
   "outputs": [
    {
     "name": "stdout",
     "output_type": "stream",
     "text": [
      "False\n"
     ]
    }
   ],
   "source": [
    "print(B.issubset(A))"
   ]
  },
  {
   "cell_type": "code",
   "execution_count": 9,
   "id": "assisted-craft",
   "metadata": {},
   "outputs": [],
   "source": [
    "def f_issubset(A,B):\n",
    "    for e in A:\n",
    "        if e in B:\n",
    "            pass\n",
    "        else:\n",
    "            return False\n",
    "        \n",
    "    return True"
   ]
  },
  {
   "cell_type": "code",
   "execution_count": 10,
   "id": "incident-romantic",
   "metadata": {},
   "outputs": [
    {
     "name": "stdout",
     "output_type": "stream",
     "text": [
      "False\n"
     ]
    }
   ],
   "source": [
    "print(f_issubset(B,A))"
   ]
  },
  {
   "cell_type": "code",
   "execution_count": 11,
   "id": "varying-brother",
   "metadata": {},
   "outputs": [
    {
     "name": "stdout",
     "output_type": "stream",
     "text": [
      "True\n"
     ]
    }
   ],
   "source": [
    "print(f_issubset({2,3,4},{1,2,3,4,5,6}))"
   ]
  },
  {
   "cell_type": "code",
   "execution_count": null,
   "id": "planned-hepatitis",
   "metadata": {},
   "outputs": [],
   "source": []
  }
 ],
 "metadata": {
  "kernelspec": {
   "display_name": "Python 3",
   "language": "python",
   "name": "python3"
  },
  "language_info": {
   "codemirror_mode": {
    "name": "ipython",
    "version": 3
   },
   "file_extension": ".py",
   "mimetype": "text/x-python",
   "name": "python",
   "nbconvert_exporter": "python",
   "pygments_lexer": "ipython3",
   "version": "3.8.6"
  }
 },
 "nbformat": 4,
 "nbformat_minor": 5
}
